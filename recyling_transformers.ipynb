{
 "cells": [
  {
   "cell_type": "code",
   "execution_count": 1,
   "metadata": {
    "colab": {
     "base_uri": "https://localhost:8080/"
    },
    "id": "i8kHb7uHwOEN",
    "outputId": "7dfa7fd5-e6f6-47d4-bb63-adfd9a6eaf3b"
   },
   "outputs": [
    {
     "name": "stdout",
     "output_type": "stream",
     "text": [
      "Requirement already satisfied: transformers[pytorch] in /opt/conda/lib/python3.8/site-packages (4.15.0)\n",
      "\u001b[33mWARNING: transformers 4.15.0 does not provide the extra 'pytorch'\u001b[0m\n",
      "Requirement already satisfied: packaging>=20.0 in /opt/conda/lib/python3.8/site-packages (from transformers[pytorch]) (21.3)\n",
      "Requirement already satisfied: filelock in /opt/conda/lib/python3.8/site-packages (from transformers[pytorch]) (3.4.0)\n",
      "Requirement already satisfied: numpy>=1.17 in /opt/conda/lib/python3.8/site-packages (from transformers[pytorch]) (1.19.5)\n",
      "Requirement already satisfied: pyyaml>=5.1 in /opt/conda/lib/python3.8/site-packages (from transformers[pytorch]) (6.0)\n",
      "Requirement already satisfied: regex!=2019.12.17 in /opt/conda/lib/python3.8/site-packages (from transformers[pytorch]) (2021.11.10)\n",
      "Requirement already satisfied: tokenizers<0.11,>=0.10.1 in /opt/conda/lib/python3.8/site-packages (from transformers[pytorch]) (0.10.3)\n",
      "Requirement already satisfied: huggingface-hub<1.0,>=0.1.0 in /opt/conda/lib/python3.8/site-packages (from transformers[pytorch]) (0.4.0)\n",
      "Requirement already satisfied: requests in /opt/conda/lib/python3.8/site-packages (from transformers[pytorch]) (2.26.0)\n",
      "Requirement already satisfied: sacremoses in /opt/conda/lib/python3.8/site-packages (from transformers[pytorch]) (0.0.47)\n",
      "Requirement already satisfied: tqdm>=4.27 in /opt/conda/lib/python3.8/site-packages (from transformers[pytorch]) (4.62.3)\n",
      "Requirement already satisfied: typing-extensions>=3.7.4.3 in /opt/conda/lib/python3.8/site-packages (from huggingface-hub<1.0,>=0.1.0->transformers[pytorch]) (3.10.0.2)\n",
      "Requirement already satisfied: pyparsing!=3.0.5,>=2.0.2 in /opt/conda/lib/python3.8/site-packages (from packaging>=20.0->transformers[pytorch]) (3.0.4)\n",
      "Requirement already satisfied: urllib3<1.27,>=1.21.1 in /opt/conda/lib/python3.8/site-packages (from requests->transformers[pytorch]) (1.26.7)\n",
      "Requirement already satisfied: charset-normalizer~=2.0.0 in /opt/conda/lib/python3.8/site-packages (from requests->transformers[pytorch]) (2.0.4)\n",
      "Requirement already satisfied: idna<4,>=2.5 in /opt/conda/lib/python3.8/site-packages (from requests->transformers[pytorch]) (3.3)\n",
      "Requirement already satisfied: certifi>=2017.4.17 in /opt/conda/lib/python3.8/site-packages (from requests->transformers[pytorch]) (2021.10.8)\n",
      "Requirement already satisfied: click in /opt/conda/lib/python3.8/site-packages (from sacremoses->transformers[pytorch]) (7.1.2)\n",
      "Requirement already satisfied: six in /opt/conda/lib/python3.8/site-packages (from sacremoses->transformers[pytorch]) (1.16.0)\n",
      "Requirement already satisfied: joblib in /opt/conda/lib/python3.8/site-packages (from sacremoses->transformers[pytorch]) (1.1.0)\n"
     ]
    }
   ],
   "source": [
    "!pip3 install transformers[pytorch]"
   ]
  },
  {
   "cell_type": "markdown",
   "metadata": {},
   "source": [
    "Working example: https://mccormickml.com/2019/07/22/BERT-fine-tuning/#2-loading-cola-dataset"
   ]
  },
  {
   "cell_type": "code",
   "execution_count": 2,
   "metadata": {
    "id": "5iZN97jT9mHJ"
   },
   "outputs": [],
   "source": [
    "import random\n",
    "from io import BytesIO\n",
    "from urllib.request import urlopen\n",
    "from zipfile import ZipFile\n",
    "\n",
    "import matplotlib.pyplot as plt\n",
    "import numpy as np\n",
    "import pandas as pd\n",
    "import torch\n",
    "import torch.nn as nn\n",
    "import torch.nn.functional as F\n",
    "from torch.optim.lr_scheduler import StepLR\n",
    "from torch.utils.data import DataLoader, Sampler, TensorDataset, WeightedRandomSampler\n",
    "from transformers import (\n",
    "    BertModel,\n",
    "    BertTokenizer,\n",
    "    GPT2LMHeadModel,\n",
    "    GPT2Model,\n",
    "    GPT2TokenizerFast,\n",
    ")\n",
    "\n",
    "zipurl = \"https://nyu-mll.github.io/CoLA/cola_public_1.1.zip\"\n",
    "with urlopen(zipurl) as zipresp:\n",
    "    with ZipFile(BytesIO(zipresp.read())) as zfile:\n",
    "        zfile.extractall(\"data\")\n",
    "# Device configuration\n",
    "device = torch.device(\"cuda\" if torch.cuda.is_available() else \"cpu\")"
   ]
  },
  {
   "cell_type": "markdown",
   "metadata": {},
   "source": [
    "Source: https://github.com/ncullen93/torchsample/blob/master/torchsample/samplers.py#L22"
   ]
  },
  {
   "cell_type": "markdown",
   "metadata": {},
   "source": [
    "https://github.com/nyu-mll/CoLA-baselines"
   ]
  },
  {
   "cell_type": "markdown",
   "metadata": {},
   "source": [
    "### 1. Getting embeddings\n",
    "\n",
    "Taken from: https://github.com/BramVanroy/bert-for-inference/blob/master/introduction-to-bert.ipynb"
   ]
  },
  {
   "cell_type": "code",
   "execution_count": 3,
   "metadata": {},
   "outputs": [],
   "source": [
    "tokenizer = BertTokenizer.from_pretrained(\"bert-base-uncased\", do_lower_case=True)"
   ]
  },
  {
   "cell_type": "markdown",
   "metadata": {},
   "source": [
    "### 2. Modelling"
   ]
  },
  {
   "cell_type": "code",
   "execution_count": 4,
   "metadata": {},
   "outputs": [],
   "source": [
    "class BERT_acceptability(nn.Module):\n",
    "    def __init__(self, dropout=0.5):\n",
    "        super(BERT_acceptability, self).__init__()\n",
    "        self.model = BertModel.from_pretrained(\n",
    "            \"bert-base-uncased\", output_hidden_states=True\n",
    "        )\n",
    "        self.ln1 = nn.Linear(1, 33)\n",
    "        self.ln2 = nn.Linear(33, 1)\n",
    "        self.sigmoid = nn.Sigmoid()\n",
    "        self.tanh = nn.Tanh()\n",
    "        self.dropout = nn.Dropout(p=dropout)\n",
    "\n",
    "    def forward(self, input_ids, attention):\n",
    "        out = self.model(input_ids=input_ids,\n",
    "                         attention_mask=attention)\n",
    "        hidden_state = out.last_hidden_state\n",
    "        out = torch.mean(hidden_state, dim=1).squeeze()\n",
    "        encoding = nn.functional.max_pool1d(out, out.shape[1])\n",
    "        encoding = self.dropout(encoding)\n",
    "        hidden = self.tanh(self.dropout(self.ln1(encoding)))\n",
    "        return self.sigmoid(self.ln2(hidden))"
   ]
  },
  {
   "cell_type": "code",
   "execution_count": 5,
   "metadata": {},
   "outputs": [
    {
     "name": "stderr",
     "output_type": "stream",
     "text": [
      "Truncation was not explicitly activated but `max_length` is provided a specific value, please use `truncation=True` to explicitly truncate examples to max length. Defaulting to 'longest_first' truncation strategy. If you encode pairs of sequences (GLUE-style) with the tokenizer you can select this strategy more precisely by providing a specific strategy to `truncation`.\n",
      "/opt/conda/lib/python3.8/site-packages/transformers/tokenization_utils_base.py:2226: FutureWarning: The `pad_to_max_length` argument is deprecated and will be removed in a future version, use `padding=True` or `padding='longest'` to pad to the longest sequence in the batch, or use `padding='max_length'` to pad to a max length. In this case, you can give a specific length with `max_length` (e.g. `max_length=45`) or leave max_length to None to pad to the maximal input size of the model (e.g. 512 for Bert).\n",
      "  warnings.warn(\n"
     ]
    },
    {
     "name": "stdout",
     "output_type": "stream",
     "text": [
      "Original:  Our friends won't buy this analysis, let alone the next one we propose.\n",
      "Token IDs: tensor([  101,  2256,  2814,  2180,  1005,  1056,  4965,  2023,  4106,  1010,\n",
      "         2292,  2894,  1996,  2279,  2028,  2057, 16599,  1012,   102,     0,\n",
      "            0,     0,     0,     0,     0,     0,     0,     0,     0,     0,\n",
      "            0,     0,     0,     0,     0,     0,     0,     0,     0,     0,\n",
      "            0,     0,     0,     0,     0,     0,     0,     0,     0,     0,\n",
      "            0,     0,     0,     0,     0,     0,     0,     0,     0,     0,\n",
      "            0,     0,     0,     0])\n"
     ]
    },
    {
     "name": "stderr",
     "output_type": "stream",
     "text": [
      "/tmp/ipykernel_29263/2165484914.py:31: UserWarning: To copy construct from a tensor, it is recommended to use sourceTensor.clone().detach() or sourceTensor.clone().detach().requires_grad_(True), rather than torch.tensor(sourceTensor).\n",
      "  labels = torch.tensor(labels)\n"
     ]
    }
   ],
   "source": [
    "df = pd.read_csv(\n",
    "    \"data/cola_public/raw/in_domain_train.tsv\",\n",
    "    sep=\"\\t\",\n",
    "    names=[\"Grammaticality\", \"Empty\", \"Sentence\"],\n",
    ")\n",
    "\n",
    "# Tokenize all of the sentences and map the tokens to thier word IDs.\n",
    "texts = df.iloc[:, 2].to_list()[0:7000]\n",
    "labels = torch.from_numpy(df.iloc[:, 0].to_numpy()[0:7000])\n",
    "\n",
    "def get_ids(texts):\n",
    "    input_ids = []\n",
    "    attention_masks = []\n",
    "\n",
    "    for sent in texts:\n",
    "        encoded_dict = tokenizer.encode_plus(\n",
    "                            sent,                      # Sentence to encode.\n",
    "                            add_special_tokens = True, # Add '[CLS]' and '[SEP]'\n",
    "                            max_length = 64,           # Pad & truncate all sentences.\n",
    "                            pad_to_max_length = True,\n",
    "                            return_attention_mask = True,   # Construct attn. masks.\n",
    "                            return_tensors = 'pt',     # Return pytorch tensors.\n",
    "                       )    \n",
    "        input_ids.append(encoded_dict['input_ids'])\n",
    "        attention_masks.append(encoded_dict['attention_mask'])\n",
    "    input_ids = torch.cat(input_ids, dim=0)\n",
    "    attention_masks = torch.cat(attention_masks, dim=0)\n",
    "    return input_ids, attention_masks\n",
    "\n",
    "input_ids, attention_masks = get_ids(texts)\n",
    "labels = torch.tensor(labels)\n",
    "\n",
    "counts = np.bincount(labels.numpy())\n",
    "labels_weights = 1. / counts\n",
    "weights = labels_weights[labels.numpy()]\n",
    "\n",
    "dataset = TensorDataset(input_ids, attention_masks, labels)\n",
    "dataloader_train = DataLoader(dataset, batch_size=50, sampler=WeightedRandomSampler(weights, len(weights)))\n",
    "print('Original: ', texts[0])\n",
    "print('Token IDs:', input_ids[0])"
   ]
  },
  {
   "cell_type": "markdown",
   "metadata": {},
   "source": [
    "Overtfitting acc:"
   ]
  },
  {
   "cell_type": "code",
   "execution_count": 6,
   "metadata": {},
   "outputs": [
    {
     "name": "stdout",
     "output_type": "stream",
     "text": [
      "Counter({1: 4923, 0: 2077})\n"
     ]
    },
    {
     "data": {
      "text/plain": [
       "0.7032857142857143"
      ]
     },
     "execution_count": 6,
     "metadata": {},
     "output_type": "execute_result"
    }
   ],
   "source": [
    "from collections import Counter\n",
    "print(Counter(labels.numpy()))\n",
    "\n",
    "4923/7000"
   ]
  },
  {
   "cell_type": "code",
   "execution_count": 7,
   "metadata": {},
   "outputs": [
    {
     "name": "stderr",
     "output_type": "stream",
     "text": [
      "Some weights of the model checkpoint at bert-base-uncased were not used when initializing BertModel: ['cls.predictions.bias', 'cls.seq_relationship.bias', 'cls.predictions.transform.dense.bias', 'cls.seq_relationship.weight', 'cls.predictions.transform.LayerNorm.bias', 'cls.predictions.transform.LayerNorm.weight', 'cls.predictions.transform.dense.weight', 'cls.predictions.decoder.weight']\n",
      "- This IS expected if you are initializing BertModel from the checkpoint of a model trained on another task or with another architecture (e.g. initializing a BertForSequenceClassification model from a BertForPreTraining model).\n",
      "- This IS NOT expected if you are initializing BertModel from the checkpoint of a model that you expect to be exactly identical (initializing a BertForSequenceClassification model from a BertForSequenceClassification model).\n"
     ]
    }
   ],
   "source": [
    "learning_rate = 0.1\n",
    "num_epochs = 10\n",
    "\n",
    "model = BERT_acceptability().to(device)\n",
    "optimizer = torch.optim.Adam(model.parameters(), lr=learning_rate)\n",
    "loss_fn = nn.BCELoss()\n",
    "# loss_fn = torch.nn.BCEWithLogitsLoss()\n",
    "# loss_fn = nn.MSELoss()\n",
    "# loss_fn = nn.CrossEntropyLoss()"
   ]
  },
  {
   "cell_type": "code",
   "execution_count": 8,
   "metadata": {},
   "outputs": [
    {
     "data": {
      "text/plain": [
       "tensor([[0.4258],\n",
       "        [0.3929],\n",
       "        [0.4134],\n",
       "        [0.3415],\n",
       "        [0.4853],\n",
       "        [0.4306],\n",
       "        [0.5088],\n",
       "        [0.4484],\n",
       "        [0.5571],\n",
       "        [0.3676],\n",
       "        [0.4433],\n",
       "        [0.2902],\n",
       "        [0.3129],\n",
       "        [0.4093],\n",
       "        [0.5302],\n",
       "        [0.4279],\n",
       "        [0.4105],\n",
       "        [0.4768],\n",
       "        [0.4016],\n",
       "        [0.5535]], device='cuda:0', grad_fn=<SigmoidBackward0>)"
      ]
     },
     "execution_count": 8,
     "metadata": {},
     "output_type": "execute_result"
    }
   ],
   "source": [
    "model(input_ids[0:20].to(device), attention_masks[0:20].to(device))"
   ]
  },
  {
   "cell_type": "code",
   "execution_count": 9,
   "metadata": {},
   "outputs": [
    {
     "data": {
      "text/plain": [
       "203"
      ]
     },
     "execution_count": 9,
     "metadata": {},
     "output_type": "execute_result"
    }
   ],
   "source": [
    "len([_ for _ in model.parameters()])"
   ]
  },
  {
   "cell_type": "code",
   "execution_count": 10,
   "metadata": {},
   "outputs": [
    {
     "name": "stdout",
     "output_type": "stream",
     "text": [
      "Accuracy = 0.4987142857142857, Mean loss = 0.7296926587820053, Correct = 3491/7000\n",
      "Accuracy = 0.5032857142857143, Mean loss = 0.7206330001354218, Correct = 3523/7000\n",
      "Accuracy = 0.5025714285714286, Mean loss = 0.7265349549906595, Correct = 3518/7000\n",
      "Accuracy = 0.49785714285714283, Mean loss = 0.7301270961761475, Correct = 3485/7000\n",
      "Accuracy = 0.49842857142857144, Mean loss = 0.7268531216042382, Correct = 3489/7000\n",
      "Accuracy = 0.5108571428571429, Mean loss = 0.7377713429076331, Correct = 3576/7000\n",
      "Accuracy = 0.5054285714285714, Mean loss = 0.7297754338809422, Correct = 3538/7000\n",
      "Accuracy = 0.49314285714285716, Mean loss = 0.7168134838342667, Correct = 3452/7000\n",
      "Accuracy = 0.5054285714285714, Mean loss = 0.7176029430968421, Correct = 3538/7000\n",
      "Accuracy = 0.5075714285714286, Mean loss = 0.7201052801949638, Correct = 3553/7000\n"
     ]
    }
   ],
   "source": [
    "glob_loss = []\n",
    "\n",
    "for epoch in range(num_epochs):\n",
    "    correct = 0\n",
    "    losses = []\n",
    "    for ids, attention, y in dataloader_train:\n",
    "        optimizer.zero_grad()\n",
    "        out = model(ids.to(device), attention.to(device))\n",
    "        correct += torch.sum(\n",
    "            torch.round(out).squeeze() == y.squeeze().to(device)\n",
    "        ).item()\n",
    "        loss = loss_fn(out.squeeze(), y.to(torch.float32).squeeze().to(device))\n",
    "        loss.backward()\n",
    "        torch.nn.utils.clip_grad_norm_(model.parameters(), 1.0)\n",
    "        optimizer.step()\n",
    "        losses.append(np.mean(loss.item()))\n",
    "    glob_loss.append(np.mean(losses))\n",
    "    accuracy = correct / len(dataset)\n",
    "    print(\n",
    "        f\"Accuracy = {accuracy}, Mean loss = {np.mean(losses)}, Correct = {correct}/7000\"\n",
    "    )"
   ]
  },
  {
   "cell_type": "code",
   "execution_count": 11,
   "metadata": {},
   "outputs": [
    {
     "data": {
      "text/plain": [
       "Counter({1: 26, 0: 24})"
      ]
     },
     "execution_count": 11,
     "metadata": {},
     "output_type": "execute_result"
    }
   ],
   "source": [
    "Counter(y.numpy())"
   ]
  },
  {
   "cell_type": "code",
   "execution_count": 12,
   "metadata": {},
   "outputs": [
    {
     "data": {
      "text/plain": [
       "tensor([[0.5510],\n",
       "        [0.5253],\n",
       "        [0.5020],\n",
       "        [0.4496],\n",
       "        [0.5541],\n",
       "        [0.4084],\n",
       "        [0.2583],\n",
       "        [0.6073],\n",
       "        [0.3885],\n",
       "        [0.5184]], device='cuda:0', grad_fn=<SigmoidBackward0>)"
      ]
     },
     "execution_count": 12,
     "metadata": {},
     "output_type": "execute_result"
    }
   ],
   "source": [
    "model(input_ids[0:10].to(device), attention_masks[0:10].to(device))"
   ]
  },
  {
   "cell_type": "code",
   "execution_count": 13,
   "metadata": {},
   "outputs": [
    {
     "data": {
      "text/plain": [
       "[<matplotlib.lines.Line2D at 0x7f374f12a070>]"
      ]
     },
     "execution_count": 13,
     "metadata": {},
     "output_type": "execute_result"
    },
    {
     "data": {
      "image/png": "[encoded data removed]",
      "text/plain": [
       "<Figure size 432x288 with 1 Axes>"
      ]
     },
     "metadata": {
      "needs_background": "light"
     },
     "output_type": "display_data"
    }
   ],
   "source": [
    "plt.plot(glob_loss)"
   ]
  },
  {
   "cell_type": "code",
   "execution_count": 14,
   "metadata": {},
   "outputs": [
    {
     "data": {
      "text/plain": [
       "tensor([[0.2239],\n",
       "        [0.6940],\n",
       "        [0.5437],\n",
       "        [0.6028],\n",
       "        [0.5003],\n",
       "        [0.3854],\n",
       "        [0.6037],\n",
       "        [0.5559],\n",
       "        [0.3122],\n",
       "        [0.4669],\n",
       "        [0.5585],\n",
       "        [0.4863],\n",
       "        [0.5556],\n",
       "        [0.6356],\n",
       "        [0.5411],\n",
       "        [0.4301],\n",
       "        [0.5550],\n",
       "        [0.6666],\n",
       "        [0.3831],\n",
       "        [0.5147]], device='cuda:0', grad_fn=<SigmoidBackward0>)"
      ]
     },
     "execution_count": 14,
     "metadata": {},
     "output_type": "execute_result"
    }
   ],
   "source": [
    "model(input_ids[100:120].to(device), attention_masks[100:120].to(device))"
   ]
  },
  {
   "cell_type": "code",
   "execution_count": 20,
   "metadata": {},
   "outputs": [
    {
     "data": {
      "text/plain": [
       "tensor([1, 1, 0, 1, 0, 0, 0, 0, 0, 1, 1, 1, 1, 0, 0, 1, 1, 1, 1, 1])"
      ]
     },
     "execution_count": 20,
     "metadata": {},
     "output_type": "execute_result"
    }
   ],
   "source": [
    "labels[100:120]"
   ]
  },
  {
   "cell_type": "code",
   "execution_count": 15,
   "metadata": {},
   "outputs": [],
   "source": [
    "texts = df.iloc[:, 2].to_list()[7000:8000]\n",
    "ids, att = get_ids(texts)\n",
    "labels = torch.from_numpy(df.iloc[:, 0].to_numpy()[7000:8000])\n",
    "dataset = TensorDataset(ids, att, labels)  # create your datset\n",
    "dataloader_test = DataLoader(dataset, batch_size=100)"
   ]
  },
  {
   "cell_type": "code",
   "execution_count": 16,
   "metadata": {},
   "outputs": [
    {
     "name": "stdout",
     "output_type": "stream",
     "text": [
      "Counter({1: 723, 0: 277})\n"
     ]
    },
    {
     "data": {
      "text/plain": [
       "0.723"
      ]
     },
     "execution_count": 16,
     "metadata": {},
     "output_type": "execute_result"
    }
   ],
   "source": [
    "from collections import Counter\n",
    "print(Counter(labels.numpy()))\n",
    "\n",
    "723/1000"
   ]
  },
  {
   "cell_type": "code",
   "execution_count": 17,
   "metadata": {},
   "outputs": [
    {
     "name": "stdout",
     "output_type": "stream",
     "text": [
      "0.7253999829292297\n",
      "0.4820000231266022\n"
     ]
    }
   ],
   "source": [
    "losses = []\n",
    "correct = 0\n",
    "for ids, att, y in dataloader_test:\n",
    "    out = model(ids.to(device), att.to(device))\n",
    "    correct += torch.sum(torch.round(out).squeeze() == y.squeeze().to(device))\n",
    "    # print(out.shape)x\n",
    "    loss = loss_fn(out.squeeze(), y.to(torch.float32).squeeze().to(device))\n",
    "    losses.append(np.mean(loss.item()))\n",
    "print(np.mean(losses))\n",
    "print((correct / 1000).item())"
   ]
  },
  {
   "cell_type": "code",
   "execution_count": 18,
   "metadata": {},
   "outputs": [
    {
     "data": {
      "text/plain": [
       "tensor([[0.5295],\n",
       "        [0.5428],\n",
       "        [0.7278],\n",
       "        [0.6379],\n",
       "        [0.4998],\n",
       "        [0.4058],\n",
       "        [0.3623],\n",
       "        [0.4754],\n",
       "        [0.4822]], device='cuda:0', grad_fn=<SigmoidBackward0>)"
      ]
     },
     "execution_count": 18,
     "metadata": {},
     "output_type": "execute_result"
    }
   ],
   "source": [
    "model(ids[1:10].to(device), att[1:10].to(device))"
   ]
  },
  {
   "cell_type": "code",
   "execution_count": 19,
   "metadata": {},
   "outputs": [
    {
     "data": {
      "text/plain": [
       "tensor([1, 1, 0, 1, 1, 1, 1, 1, 0])"
      ]
     },
     "execution_count": 19,
     "metadata": {},
     "output_type": "execute_result"
    }
   ],
   "source": [
    "y[1:10]"
   ]
  }
 ],
 "metadata": {
  "accelerator": "GPU",
  "colab": {
   "collapsed_sections": [],
   "name": "recyling_transformers.ipynb",
   "provenance": []
  },
  "kernelspec": {
   "display_name": "Python 3 (ipykernel)",
   "language": "python",
   "name": "python3"
  },
  "language_info": {
   "codemirror_mode": {
    "name": "ipython",
    "version": 3
   },
   "file_extension": ".py",
   "mimetype": "text/x-python",
   "name": "python",
   "nbconvert_exporter": "python",
   "pygments_lexer": "ipython3",
   "version": "3.8.12"
  }
 },
 "nbformat": 4,
 "nbformat_minor": 4
}
