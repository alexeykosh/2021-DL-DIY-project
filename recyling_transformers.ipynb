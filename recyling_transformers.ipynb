{
 "cells": [
  {
   "cell_type": "code",
   "execution_count": 1,
   "metadata": {
    "colab": {
     "base_uri": "https://localhost:8080/"
    },
    "id": "i8kHb7uHwOEN",
    "outputId": "7dfa7fd5-e6f6-47d4-bb63-adfd9a6eaf3b"
   },
   "outputs": [
    {
     "name": "stdout",
     "output_type": "stream",
     "text": [
      "Requirement already satisfied: transformers[pytorch] in /opt/conda/lib/python3.8/site-packages (4.15.0)\n",
      "\u001b[33mWARNING: transformers 4.15.0 does not provide the extra 'pytorch'\u001b[0m\n",
      "Requirement already satisfied: huggingface-hub<1.0,>=0.1.0 in /opt/conda/lib/python3.8/site-packages (from transformers[pytorch]) (0.4.0)\n",
      "Requirement already satisfied: tokenizers<0.11,>=0.10.1 in /opt/conda/lib/python3.8/site-packages (from transformers[pytorch]) (0.10.3)\n",
      "Requirement already satisfied: numpy>=1.17 in /opt/conda/lib/python3.8/site-packages (from transformers[pytorch]) (1.19.5)\n",
      "Requirement already satisfied: regex!=2019.12.17 in /opt/conda/lib/python3.8/site-packages (from transformers[pytorch]) (2021.11.10)\n",
      "Requirement already satisfied: packaging>=20.0 in /opt/conda/lib/python3.8/site-packages (from transformers[pytorch]) (21.3)\n",
      "Requirement already satisfied: requests in /opt/conda/lib/python3.8/site-packages (from transformers[pytorch]) (2.26.0)\n",
      "Requirement already satisfied: filelock in /opt/conda/lib/python3.8/site-packages (from transformers[pytorch]) (3.4.0)\n",
      "Requirement already satisfied: tqdm>=4.27 in /opt/conda/lib/python3.8/site-packages (from transformers[pytorch]) (4.62.3)\n",
      "Requirement already satisfied: sacremoses in /opt/conda/lib/python3.8/site-packages (from transformers[pytorch]) (0.0.47)\n",
      "Requirement already satisfied: pyyaml>=5.1 in /opt/conda/lib/python3.8/site-packages (from transformers[pytorch]) (6.0)\n",
      "Requirement already satisfied: typing-extensions>=3.7.4.3 in /opt/conda/lib/python3.8/site-packages (from huggingface-hub<1.0,>=0.1.0->transformers[pytorch]) (3.10.0.2)\n",
      "Requirement already satisfied: pyparsing!=3.0.5,>=2.0.2 in /opt/conda/lib/python3.8/site-packages (from packaging>=20.0->transformers[pytorch]) (3.0.4)\n",
      "Requirement already satisfied: urllib3<1.27,>=1.21.1 in /opt/conda/lib/python3.8/site-packages (from requests->transformers[pytorch]) (1.26.7)\n",
      "Requirement already satisfied: certifi>=2017.4.17 in /opt/conda/lib/python3.8/site-packages (from requests->transformers[pytorch]) (2021.10.8)\n",
      "Requirement already satisfied: idna<4,>=2.5 in /opt/conda/lib/python3.8/site-packages (from requests->transformers[pytorch]) (3.3)\n",
      "Requirement already satisfied: charset-normalizer~=2.0.0 in /opt/conda/lib/python3.8/site-packages (from requests->transformers[pytorch]) (2.0.4)\n",
      "Requirement already satisfied: joblib in /opt/conda/lib/python3.8/site-packages (from sacremoses->transformers[pytorch]) (1.1.0)\n",
      "Requirement already satisfied: six in /opt/conda/lib/python3.8/site-packages (from sacremoses->transformers[pytorch]) (1.16.0)\n",
      "Requirement already satisfied: click in /opt/conda/lib/python3.8/site-packages (from sacremoses->transformers[pytorch]) (7.1.2)\n"
     ]
    }
   ],
   "source": [
    "!pip3 install transformers[pytorch]"
   ]
  },
  {
   "cell_type": "markdown",
   "metadata": {},
   "source": [
    "Working example: https://mccormickml.com/2019/07/22/BERT-fine-tuning/#2-loading-cola-dataset"
   ]
  },
  {
   "cell_type": "code",
   "execution_count": 2,
   "metadata": {
    "id": "5iZN97jT9mHJ"
   },
   "outputs": [],
   "source": [
    "import random\n",
    "from io import BytesIO\n",
    "from urllib.request import urlopen\n",
    "from zipfile import ZipFile\n",
    "\n",
    "import matplotlib.pyplot as plt\n",
    "import numpy as np\n",
    "import pandas as pd\n",
    "import torch\n",
    "import torch.nn as nn\n",
    "import torch.nn.functional as F\n",
    "from torch.optim.lr_scheduler import StepLR\n",
    "from torch.utils.data import DataLoader, Sampler, TensorDataset\n",
    "from transformers import (\n",
    "    BertModel,\n",
    "    BertTokenizer,\n",
    "    GPT2LMHeadModel,\n",
    "    GPT2Model,\n",
    "    GPT2TokenizerFast,\n",
    ")\n",
    "\n",
    "zipurl = \"https://nyu-mll.github.io/CoLA/cola_public_1.1.zip\"\n",
    "with urlopen(zipurl) as zipresp:\n",
    "    with ZipFile(BytesIO(zipresp.read())) as zfile:\n",
    "        zfile.extractall(\"data\")\n",
    "# Device configuration\n",
    "device = torch.device(\"cuda\" if torch.cuda.is_available() else \"cpu\")"
   ]
  },
  {
   "cell_type": "markdown",
   "metadata": {},
   "source": [
    "Source: https://github.com/ncullen93/torchsample/blob/master/torchsample/samplers.py#L22"
   ]
  },
  {
   "cell_type": "markdown",
   "metadata": {},
   "source": [
    "https://github.com/nyu-mll/CoLA-baselines"
   ]
  },
  {
   "cell_type": "markdown",
   "metadata": {},
   "source": [
    "### 1. Getting embeddings\n",
    "\n",
    "Taken from: https://github.com/BramVanroy/bert-for-inference/blob/master/introduction-to-bert.ipynb"
   ]
  },
  {
   "cell_type": "code",
   "execution_count": 3,
   "metadata": {},
   "outputs": [],
   "source": [
    "tokenizer = BertTokenizer.from_pretrained(\"bert-base-uncased\", do_lower_case=True)"
   ]
  },
  {
   "cell_type": "markdown",
   "metadata": {},
   "source": [
    "### 2. Modelling"
   ]
  },
  {
   "cell_type": "code",
   "execution_count": 4,
   "metadata": {},
   "outputs": [],
   "source": [
    "class BERT_acceptability(nn.Module):\n",
    "    def __init__(self, dropout=0.7, model=\"GPT\"):\n",
    "        super(BERT_acceptability, self).__init__()\n",
    "        self.model = BertModel.from_pretrained(\n",
    "            \"bert-base-uncased\", output_hidden_states=True\n",
    "        )\n",
    "        self.ln1 = nn.Linear(76, 50)\n",
    "        self.ln2 = nn.Linear(50, 20)\n",
    "        self.ln3 = nn.Linear(20, 10)\n",
    "        self.ln4 = nn.Linear(10, 1)\n",
    "        self.sigmoid = nn.Sigmoid()\n",
    "        self.tanh = nn.Tanh()\n",
    "        self.dropout = nn.Dropout(p=dropout)\n",
    "\n",
    "    def forward(self, input_ids, attention):\n",
    "        with torch.no_grad():\n",
    "            out = self.model(input_ids=input_ids,\n",
    "                             attention_mask=attention)\n",
    "            hidden_state = out.last_hidden_state\n",
    "            out = torch.mean(hidden_state, dim=1).squeeze()\n",
    "        encoding = nn.functional.max_pool1d(out, 10)\n",
    "        encoding = self.dropout(encoding)\n",
    "        hidden = self.dropout(self.ln1(encoding))\n",
    "        hidden = self.dropout(self.ln2(hidden))\n",
    "        hidden = self.dropout(self.ln3(hidden))\n",
    "        return self.sigmoid(self.ln4(hidden))"
   ]
  },
  {
   "cell_type": "code",
   "execution_count": 5,
   "metadata": {},
   "outputs": [
    {
     "name": "stderr",
     "output_type": "stream",
     "text": [
      "Truncation was not explicitly activated but `max_length` is provided a specific value, please use `truncation=True` to explicitly truncate examples to max length. Defaulting to 'longest_first' truncation strategy. If you encode pairs of sequences (GLUE-style) with the tokenizer you can select this strategy more precisely by providing a specific strategy to `truncation`.\n",
      "/opt/conda/lib/python3.8/site-packages/transformers/tokenization_utils_base.py:2226: FutureWarning: The `pad_to_max_length` argument is deprecated and will be removed in a future version, use `padding=True` or `padding='longest'` to pad to the longest sequence in the batch, or use `padding='max_length'` to pad to a max length. In this case, you can give a specific length with `max_length` (e.g. `max_length=45`) or leave max_length to None to pad to the maximal input size of the model (e.g. 512 for Bert).\n",
      "  warnings.warn(\n"
     ]
    },
    {
     "name": "stdout",
     "output_type": "stream",
     "text": [
      "Original:  Our friends won't buy this analysis, let alone the next one we propose.\n",
      "Token IDs: tensor([  101,  2256,  2814,  2180,  1005,  1056,  4965,  2023,  4106,  1010,\n",
      "         2292,  2894,  1996,  2279,  2028,  2057, 16599,  1012,   102,     0,\n",
      "            0,     0,     0,     0,     0,     0,     0,     0,     0,     0,\n",
      "            0,     0,     0,     0,     0,     0,     0,     0,     0,     0,\n",
      "            0,     0,     0,     0,     0,     0,     0,     0,     0,     0,\n",
      "            0,     0,     0,     0,     0,     0,     0,     0,     0,     0,\n",
      "            0,     0,     0,     0])\n"
     ]
    },
    {
     "name": "stderr",
     "output_type": "stream",
     "text": [
      "/tmp/ipykernel_51282/3929746227.py:27: UserWarning: To copy construct from a tensor, it is recommended to use sourceTensor.clone().detach() or sourceTensor.clone().detach().requires_grad_(True), rather than torch.tensor(sourceTensor).\n",
      "  labels = torch.tensor(labels)\n"
     ]
    }
   ],
   "source": [
    "df = pd.read_csv(\n",
    "    \"data/cola_public/raw/in_domain_train.tsv\",\n",
    "    sep=\"\\t\",\n",
    "    names=[\"Grammaticality\", \"Empty\", \"Sentence\"],\n",
    ")\n",
    "\n",
    "# Tokenize all of the sentences and map the tokens to thier word IDs.\n",
    "texts = df.iloc[:, 2].to_list()[0:7000]\n",
    "labels = torch.from_numpy(df.iloc[:, 0].to_numpy()[0:7000])\n",
    "\n",
    "input_ids = []\n",
    "attention_masks = []\n",
    "\n",
    "for sent in texts:\n",
    "    encoded_dict = tokenizer.encode_plus(\n",
    "                        sent,                      # Sentence to encode.\n",
    "                        add_special_tokens = True, # Add '[CLS]' and '[SEP]'\n",
    "                        max_length = 64,           # Pad & truncate all sentences.\n",
    "                        pad_to_max_length = True,\n",
    "                        return_attention_mask = True,   # Construct attn. masks.\n",
    "                        return_tensors = 'pt',     # Return pytorch tensors.\n",
    "                   )    \n",
    "    input_ids.append(encoded_dict['input_ids'])\n",
    "    attention_masks.append(encoded_dict['attention_mask'])\n",
    "input_ids = torch.cat(input_ids, dim=0)\n",
    "attention_masks = torch.cat(attention_masks, dim=0)\n",
    "labels = torch.tensor(labels)\n",
    "\n",
    "dataset = TensorDataset(input_ids, attention_masks, labels)\n",
    "dataloader_train = DataLoader(dataset, batch_size=50)\n",
    "print('Original: ', texts[0])\n",
    "print('Token IDs:', input_ids[0])"
   ]
  },
  {
   "cell_type": "markdown",
   "metadata": {},
   "source": [
    "Overtfitting acc:"
   ]
  },
  {
   "cell_type": "code",
   "execution_count": 6,
   "metadata": {},
   "outputs": [
    {
     "name": "stdout",
     "output_type": "stream",
     "text": [
      "Counter({1: 4923, 0: 2077})\n"
     ]
    },
    {
     "data": {
      "text/plain": [
       "0.7032857142857143"
      ]
     },
     "execution_count": 6,
     "metadata": {},
     "output_type": "execute_result"
    }
   ],
   "source": [
    "from collections import Counter\n",
    "print(Counter(labels.numpy()))\n",
    "\n",
    "4923/7000"
   ]
  },
  {
   "cell_type": "code",
   "execution_count": 7,
   "metadata": {},
   "outputs": [
    {
     "name": "stderr",
     "output_type": "stream",
     "text": [
      "Some weights of the model checkpoint at bert-base-uncased were not used when initializing BertModel: ['cls.seq_relationship.bias', 'cls.seq_relationship.weight', 'cls.predictions.transform.dense.bias', 'cls.predictions.transform.dense.weight', 'cls.predictions.transform.LayerNorm.bias', 'cls.predictions.bias', 'cls.predictions.decoder.weight', 'cls.predictions.transform.LayerNorm.weight']\n",
      "- This IS expected if you are initializing BertModel from the checkpoint of a model trained on another task or with another architecture (e.g. initializing a BertForSequenceClassification model from a BertForPreTraining model).\n",
      "- This IS NOT expected if you are initializing BertModel from the checkpoint of a model that you expect to be exactly identical (initializing a BertForSequenceClassification model from a BertForSequenceClassification model).\n"
     ]
    }
   ],
   "source": [
    "learning_rate = 10e-4\n",
    "num_epochs = 10\n",
    "\n",
    "model = BERT_acceptability().to(device)\n",
    "optimizer = torch.optim.SGD(model.parameters(), lr=learning_rate, momentum=0.9)\n",
    "loss_fn = nn.BCELoss()\n",
    "# loss_fn = torch.nn.BCEWithLogitsLoss()\n",
    "# loss_fn = nn.MSELoss()\n",
    "# loss_fn = nn.CrossEntropyLoss()"
   ]
  },
  {
   "cell_type": "code",
   "execution_count": 8,
   "metadata": {},
   "outputs": [
    {
     "data": {
      "text/plain": [
       "tensor([[0.5734],\n",
       "        [0.5456],\n",
       "        [0.5683],\n",
       "        [0.5005],\n",
       "        [0.4169],\n",
       "        [0.5477],\n",
       "        [0.2709],\n",
       "        [0.6487],\n",
       "        [0.5320],\n",
       "        [0.5653]], device='cuda:0', grad_fn=<SigmoidBackward0>)"
      ]
     },
     "execution_count": 8,
     "metadata": {},
     "output_type": "execute_result"
    }
   ],
   "source": [
    "model(input_ids[0:10].to(device), attention_masks[0:10].to(device))"
   ]
  },
  {
   "cell_type": "code",
   "execution_count": 9,
   "metadata": {},
   "outputs": [],
   "source": [
    "m = nn.Sigmoid()\n",
    "loss = nn.BCELoss()\n",
    "input = torch.randn(3, requires_grad=True)\n",
    "target = torch.empty(3).random_(2)\n",
    "output = loss(m(input), target)\n",
    "output.backward()"
   ]
  },
  {
   "cell_type": "code",
   "execution_count": 10,
   "metadata": {},
   "outputs": [
    {
     "name": "stdout",
     "output_type": "stream",
     "text": [
      "Accuracy = 0.6362857142857142, Mean loss = 0.657236510515213, Correct = 4454/7000\n",
      "Accuracy = 0.6861428571428572, Mean loss = 0.6308093130588531, Correct = 4803/7000\n",
      "Accuracy = 0.696, Mean loss = 0.6251605057290622, Correct = 4872/7000\n",
      "Accuracy = 0.7012857142857143, Mean loss = 0.6181676762444632, Correct = 4909/7000\n",
      "Accuracy = 0.7025714285714286, Mean loss = 0.6187475996358054, Correct = 4918/7000\n",
      "Accuracy = 0.7028571428571428, Mean loss = 0.61243073535817, Correct = 4920/7000\n",
      "Accuracy = 0.7032857142857143, Mean loss = 0.6108057386108807, Correct = 4923/7000\n",
      "Accuracy = 0.7032857142857143, Mean loss = 0.6115283212491445, Correct = 4923/7000\n",
      "Accuracy = 0.7031428571428572, Mean loss = 0.6113501457231385, Correct = 4922/7000\n",
      "Accuracy = 0.7032857142857143, Mean loss = 0.610659750018801, Correct = 4923/7000\n"
     ]
    }
   ],
   "source": [
    "glob_loss = []\n",
    "\n",
    "for epoch in range(num_epochs):\n",
    "    correct = 0\n",
    "    losses = []\n",
    "    for ids, attention, y in dataloader_train:\n",
    "        out = model(ids.to(device), attention.to(device))\n",
    "        correct += torch.sum(\n",
    "            torch.round(out).squeeze() == y.squeeze().to(device)\n",
    "        ).item()\n",
    "        loss = loss_fn(out.squeeze(), y.to(torch.float32).squeeze().to(device))\n",
    "        optimizer.zero_grad()\n",
    "        loss.backward()\n",
    "        # torch.nn.utils.clip_grad_norm_(model.parameters(), 1.0)\n",
    "        optimizer.step()\n",
    "        losses.append(np.mean(loss.item()))\n",
    "    glob_loss.append(np.mean(losses))\n",
    "    accuracy = correct / len(dataset)\n",
    "    print(\n",
    "        f\"Accuracy = {accuracy}, Mean loss = {np.mean(losses)}, Correct = {correct}/7000\"\n",
    "    )"
   ]
  },
  {
   "cell_type": "code",
   "execution_count": 11,
   "metadata": {},
   "outputs": [
    {
     "data": {
      "text/plain": [
       "Counter({1: 47, 0: 3})"
      ]
     },
     "execution_count": 11,
     "metadata": {},
     "output_type": "execute_result"
    }
   ],
   "source": [
    "Counter(y.numpy())"
   ]
  },
  {
   "cell_type": "code",
   "execution_count": 12,
   "metadata": {},
   "outputs": [
    {
     "data": {
      "text/plain": [
       "tensor([[0.6888],\n",
       "        [0.7034],\n",
       "        [0.6802],\n",
       "        [0.6771],\n",
       "        [0.6836],\n",
       "        [0.7182],\n",
       "        [0.7056],\n",
       "        [0.6756],\n",
       "        [0.6693],\n",
       "        [0.6701]], device='cuda:0', grad_fn=<SigmoidBackward0>)"
      ]
     },
     "execution_count": 12,
     "metadata": {},
     "output_type": "execute_result"
    }
   ],
   "source": [
    "model(input_ids[0:10].to(device), attention_masks[0:10].to(device))"
   ]
  },
  {
   "cell_type": "code",
   "execution_count": 13,
   "metadata": {},
   "outputs": [
    {
     "data": {
      "text/plain": [
       "[<matplotlib.lines.Line2D at 0x7fb6d825c0a0>]"
      ]
     },
     "execution_count": 13,
     "metadata": {},
     "output_type": "execute_result"
    },
    {
     "data": {
      "image/png": "[encoded data removed]",
      "text/plain": [
       "<Figure size 432x288 with 1 Axes>"
      ]
     },
     "metadata": {
      "needs_background": "light"
     },
     "output_type": "display_data"
    }
   ],
   "source": [
    "plt.plot(glob_loss)"
   ]
  },
  {
   "cell_type": "code",
   "execution_count": 14,
   "metadata": {},
   "outputs": [
    {
     "data": {
      "text/plain": [
       "tensor([[0.6617],\n",
       "        [0.6988],\n",
       "        [0.6812],\n",
       "        [0.6852],\n",
       "        [0.6656],\n",
       "        [0.6532],\n",
       "        [0.6932],\n",
       "        [0.7172],\n",
       "        [0.7045],\n",
       "        [0.6762],\n",
       "        [0.7171],\n",
       "        [0.6865],\n",
       "        [0.6539],\n",
       "        [0.6949],\n",
       "        [0.7218],\n",
       "        [0.6933],\n",
       "        [0.6173],\n",
       "        [0.6769],\n",
       "        [0.6997],\n",
       "        [0.7273]], device='cuda:0', grad_fn=<SigmoidBackward0>)"
      ]
     },
     "execution_count": 14,
     "metadata": {},
     "output_type": "execute_result"
    }
   ],
   "source": [
    "model(input_ids[100:120].to(device), attention_masks[100:120].to(device))"
   ]
  },
  {
   "cell_type": "code",
   "execution_count": 15,
   "metadata": {},
   "outputs": [],
   "source": [
    "# texts = df.iloc[:, 2].to_list()[7000:8000]\n",
    "# ids = encode(texts, tokenizer)\n",
    "# # print(len(ids))\n",
    "# labels = torch.from_numpy(df.iloc[:, 0].to_numpy()[7000:8000])\n",
    "# # class_sample_count = [100, 100]\n",
    "# # weights = 1 / torch.Tensor(class_sample_count)\n",
    "# # sampler = torch.utils.data.sampler.WeightedRandomSampler(weights, 100)\n",
    "# dataset = TensorDataset(ids, labels)  # create your datset\n",
    "# sampler = StratifiedSampler(class_vector=labels, batch_size=100)\n",
    "# dataloader_test = DataLoader(dataset, batch_size=100, sampler=sampler)"
   ]
  },
  {
   "cell_type": "code",
   "execution_count": 16,
   "metadata": {},
   "outputs": [],
   "source": [
    "# from collections import Counter\n",
    "# print(Counter(labels.numpy()))\n",
    "\n",
    "# 723/1000"
   ]
  },
  {
   "cell_type": "code",
   "execution_count": 17,
   "metadata": {},
   "outputs": [],
   "source": [
    "# losses = []\n",
    "# correct = 0\n",
    "# for ids, y in dataloader_test:\n",
    "#     out = model(ids.to(device))\n",
    "#     correct += torch.sum(torch.round(out).squeeze() == y.squeeze().to(device))\n",
    "#     # print(out.shape)x\n",
    "#     loss = loss_fn(out.squeeze(), y.to(torch.float32).squeeze().to(device))\n",
    "#     losses.append(np.mean(loss.item()))\n",
    "# print(np.mean(losses))\n",
    "# print((correct / 1000).item())"
   ]
  }
 ],
 "metadata": {
  "accelerator": "GPU",
  "colab": {
   "collapsed_sections": [],
   "name": "recyling_transformers.ipynb",
   "provenance": []
  },
  "kernelspec": {
   "display_name": "Python 3 (ipykernel)",
   "language": "python",
   "name": "python3"
  },
  "language_info": {
   "codemirror_mode": {
    "name": "ipython",
    "version": 3
   },
   "file_extension": ".py",
   "mimetype": "text/x-python",
   "name": "python",
   "nbconvert_exporter": "python",
   "pygments_lexer": "ipython3",
   "version": "3.8.12"
  }
 },
 "nbformat": 4,
 "nbformat_minor": 4
}
