{
 "cells": [
  {
   "cell_type": "code",
   "execution_count": 1,
   "metadata": {
    "colab": {
     "base_uri": "https://localhost:8080/"
    },
    "id": "i8kHb7uHwOEN",
    "outputId": "7dfa7fd5-e6f6-47d4-bb63-adfd9a6eaf3b"
   },
   "outputs": [
    {
     "name": "stdout",
     "output_type": "stream",
     "text": [
      "Collecting transformers[pytorch]\n",
      "  Downloading transformers-4.15.0-py3-none-any.whl (3.4 MB)\n",
      "     |████████████████████████████████| 3.4 MB 9.2 MB/s            \n",
      "\u001b[?25h\u001b[33mWARNING: transformers 4.15.0 does not provide the extra 'pytorch'\u001b[0m\n",
      "Requirement already satisfied: filelock in /opt/conda/lib/python3.8/site-packages (from transformers[pytorch]) (3.4.0)\n",
      "Requirement already satisfied: tqdm>=4.27 in /opt/conda/lib/python3.8/site-packages (from transformers[pytorch]) (4.62.3)\n",
      "Requirement already satisfied: pyyaml>=5.1 in /opt/conda/lib/python3.8/site-packages (from transformers[pytorch]) (6.0)\n",
      "Requirement already satisfied: regex!=2019.12.17 in /opt/conda/lib/python3.8/site-packages (from transformers[pytorch]) (2021.11.10)\n",
      "Requirement already satisfied: numpy>=1.17 in /opt/conda/lib/python3.8/site-packages (from transformers[pytorch]) (1.19.5)\n",
      "Requirement already satisfied: packaging>=20.0 in /opt/conda/lib/python3.8/site-packages (from transformers[pytorch]) (21.3)\n",
      "Collecting huggingface-hub<1.0,>=0.1.0\n",
      "  Downloading huggingface_hub-0.4.0-py3-none-any.whl (67 kB)\n",
      "     |████████████████████████████████| 67 kB 354 kB/s             \n",
      "\u001b[?25hRequirement already satisfied: requests in /opt/conda/lib/python3.8/site-packages (from transformers[pytorch]) (2.26.0)\n",
      "Collecting sacremoses\n",
      "  Downloading sacremoses-0.0.47-py2.py3-none-any.whl (895 kB)\n",
      "     |████████████████████████████████| 895 kB 86.5 MB/s            \n",
      "\u001b[?25hCollecting tokenizers<0.11,>=0.10.1\n",
      "  Downloading tokenizers-0.10.3-cp38-cp38-manylinux_2_5_x86_64.manylinux1_x86_64.manylinux_2_12_x86_64.manylinux2010_x86_64.whl (3.3 MB)\n",
      "     |████████████████████████████████| 3.3 MB 65.7 MB/s            \n",
      "\u001b[?25hRequirement already satisfied: typing-extensions>=3.7.4.3 in /opt/conda/lib/python3.8/site-packages (from huggingface-hub<1.0,>=0.1.0->transformers[pytorch]) (3.10.0.2)\n",
      "Requirement already satisfied: pyparsing!=3.0.5,>=2.0.2 in /opt/conda/lib/python3.8/site-packages (from packaging>=20.0->transformers[pytorch]) (3.0.4)\n",
      "Requirement already satisfied: idna<4,>=2.5 in /opt/conda/lib/python3.8/site-packages (from requests->transformers[pytorch]) (3.3)\n",
      "Requirement already satisfied: urllib3<1.27,>=1.21.1 in /opt/conda/lib/python3.8/site-packages (from requests->transformers[pytorch]) (1.26.7)\n",
      "Requirement already satisfied: charset-normalizer~=2.0.0 in /opt/conda/lib/python3.8/site-packages (from requests->transformers[pytorch]) (2.0.4)\n",
      "Requirement already satisfied: certifi>=2017.4.17 in /opt/conda/lib/python3.8/site-packages (from requests->transformers[pytorch]) (2021.10.8)\n",
      "Requirement already satisfied: six in /opt/conda/lib/python3.8/site-packages (from sacremoses->transformers[pytorch]) (1.16.0)\n",
      "Requirement already satisfied: click in /opt/conda/lib/python3.8/site-packages (from sacremoses->transformers[pytorch]) (7.1.2)\n",
      "Requirement already satisfied: joblib in /opt/conda/lib/python3.8/site-packages (from sacremoses->transformers[pytorch]) (1.1.0)\n",
      "Installing collected packages: tokenizers, sacremoses, huggingface-hub, transformers\n",
      "Successfully installed huggingface-hub-0.4.0 sacremoses-0.0.47 tokenizers-0.10.3 transformers-4.15.0\n"
     ]
    }
   ],
   "source": [
    "!pip3 install transformers[pytorch]"
   ]
  },
  {
   "cell_type": "code",
   "execution_count": 2,
   "metadata": {
    "id": "5iZN97jT9mHJ"
   },
   "outputs": [],
   "source": [
    "from io import BytesIO\n",
    "from urllib.request import urlopen\n",
    "from zipfile import ZipFile\n",
    "import torch.nn as nn\n",
    "import torch.nn.functional as F\n",
    "import torch\n",
    "from torch.optim.lr_scheduler import StepLR\n",
    "from transformers import GPT2TokenizerFast, GPT2Model, GPT2LMHeadModel\n",
    "import random\n",
    "import numpy as np\n",
    "import matplotlib.pyplot as plt\n",
    "\n",
    "import pandas as pd\n",
    "from torch.utils.data import TensorDataset, DataLoader\n",
    "\n",
    "zipurl = 'https://nyu-mll.github.io/CoLA/cola_public_1.1.zip'\n",
    "with urlopen(zipurl) as zipresp:\n",
    "    with ZipFile(BytesIO(zipresp.read())) as zfile:\n",
    "        zfile.extractall('data')\n",
    "# Device configuration\n",
    "device = torch.device('cuda' if torch.cuda.is_available() else 'cpu')"
   ]
  },
  {
   "cell_type": "code",
   "execution_count": 3,
   "metadata": {
    "id": "XPinn6O5UgXw"
   },
   "outputs": [],
   "source": [
    "import warnings\n",
    "warnings.filterwarnings(\"ignore\")"
   ]
  },
  {
   "cell_type": "code",
   "execution_count": 4,
   "metadata": {
    "id": "DKauTMVXNtjB"
   },
   "outputs": [],
   "source": [
    "# !pip install transformers[torch]"
   ]
  },
  {
   "cell_type": "code",
   "execution_count": 5,
   "metadata": {
    "id": "pMa6SjTRD33W"
   },
   "outputs": [
    {
     "data": {
      "application/vnd.jupyter.widget-view+json": {
       "model_id": "a30700f4c6d04328baa2dc259057867d",
       "version_major": 2,
       "version_minor": 0
      },
      "text/plain": [
       "Downloading:   0%|          | 0.00/0.99M [00:00<?, ?B/s]"
      ]
     },
     "metadata": {},
     "output_type": "display_data"
    },
    {
     "data": {
      "application/vnd.jupyter.widget-view+json": {
       "model_id": "b74072664aaf435caea15a19c472f922",
       "version_major": 2,
       "version_minor": 0
      },
      "text/plain": [
       "Downloading:   0%|          | 0.00/446k [00:00<?, ?B/s]"
      ]
     },
     "metadata": {},
     "output_type": "display_data"
    },
    {
     "data": {
      "application/vnd.jupyter.widget-view+json": {
       "model_id": "34259d41c1e44fc5b0edfae1d9aa4739",
       "version_major": 2,
       "version_minor": 0
      },
      "text/plain": [
       "Downloading:   0%|          | 0.00/1.29M [00:00<?, ?B/s]"
      ]
     },
     "metadata": {},
     "output_type": "display_data"
    },
    {
     "data": {
      "application/vnd.jupyter.widget-view+json": {
       "model_id": "76f53e893bff47318c78c6c28cce4d56",
       "version_major": 2,
       "version_minor": 0
      },
      "text/plain": [
       "Downloading:   0%|          | 0.00/665 [00:00<?, ?B/s]"
      ]
     },
     "metadata": {},
     "output_type": "display_data"
    }
   ],
   "source": [
    "tokenizer = GPT2TokenizerFast.from_pretrained(\"gpt2\")\n",
    "tokenizer.pad_token = tokenizer.eos_token\n",
    "\n",
    "# tokenizer.add_special_tokens({'pad_token': '[PAD]'})\n",
    "# tokenizer = GPT2Tokenizer.from_pretrained('gpt2')\n",
    "# model = GPT2Model.from_pretrained('gpt2')"
   ]
  },
  {
   "cell_type": "code",
   "execution_count": 6,
   "metadata": {
    "colab": {
     "base_uri": "https://localhost:8080/"
    },
    "id": "o83la_uaTRpQ",
    "outputId": "2c156296-191e-4272-90ab-ee5df9abbbbc"
   },
   "outputs": [
    {
     "data": {
      "application/vnd.jupyter.widget-view+json": {
       "model_id": "fca3f175883546f38903ad31c36d1624",
       "version_major": 2,
       "version_minor": 0
      },
      "text/plain": [
       "Downloading:   0%|          | 0.00/523M [00:00<?, ?B/s]"
      ]
     },
     "metadata": {},
     "output_type": "display_data"
    },
    {
     "name": "stdout",
     "output_type": "stream",
     "text": [
      "i would like to thank you mr chairman tensor(122.3064, grad_fn=<ExpBackward0>)\n",
      "i would liking to thanks you mr chair in tensor(1183.7665, grad_fn=<ExpBackward0>)\n",
      "thnks chair tensor(14135.1562, grad_fn=<ExpBackward0>)\n",
      "me not know english tensor(1978.1694, grad_fn=<ExpBackward0>)\n"
     ]
    }
   ],
   "source": [
    "gpt = GPT2LMHeadModel.from_pretrained('gpt2')\n",
    "\n",
    "def score(tokens_tensor):\n",
    "    loss=gpt(tokens_tensor, labels=tokens_tensor)[0]\n",
    "    return torch.exp(loss)\n",
    "\n",
    "texts = ['i would like to thank you mr chairman', \n",
    "         'i would liking to thanks you mr chair in',\n",
    "         'thnks chair', 'me not know english']\n",
    "for text in texts:\n",
    "    tokens_tensor = tokenizer.encode( text, add_special_tokens=False, return_tensors=\"pt\")\n",
    "    # print(tokens_tensor)           \n",
    "    print(text, score(tokens_tensor))"
   ]
  },
  {
   "cell_type": "code",
   "execution_count": 7,
   "metadata": {
    "colab": {
     "base_uri": "https://localhost:8080/"
    },
    "id": "xYzkarQLGBBY",
    "outputId": "0948c5b3-9d65-409a-9a9e-68bb2862c66a"
   },
   "outputs": [
    {
     "data": {
      "text/plain": [
       "[[40, 1842, 345], [1639, 1842, 502]]"
      ]
     },
     "execution_count": 7,
     "metadata": {},
     "output_type": "execute_result"
    }
   ],
   "source": [
    "tokenizer(['I love you', 'You love me']).get('input_ids')"
   ]
  },
  {
   "cell_type": "markdown",
   "metadata": {
    "id": "EXmPgHmEAFu_"
   },
   "source": [
    "Inspiration: https://github.com/nyu-mll/CoLA-baselines\n",
    "\n",
    "Build a module: https://github.com/abhimishra91/transformers-tutorials/blob/master/transformers_multiclass_classification.ipynb\n",
    "\n",
    "Counting suprisal: https://www.researchgate.net/publication/343268482_Investigating_the_Role_of_Verb_Frequency_in_Factive_and_Manner-of-speaking_Islands\n",
    "\n",
    "https://osf.io/98p2q/"
   ]
  },
  {
   "cell_type": "code",
   "execution_count": 235,
   "metadata": {
    "id": "8Uhy3V2NFu9l"
   },
   "outputs": [],
   "source": [
    "from transformers import BertModel\n",
    "\n",
    "class GPT2_acceptability(nn.Module):\n",
    "   def __init__(self):\n",
    "       super(GPT2_acceptability, self).__init__()\n",
    "       self.model = GPT2Model.from_pretrained('gpt2')\n",
    "       self.ln1 = nn.Linear(self.model.config.hidden_size, 384)\n",
    "       self.ln2 = nn.Linear(384, 192)\n",
    "       self.ln3 = nn.Linear(192, 30)\n",
    "       self.ln4 = nn.Linear(30, 1)\n",
    "\n",
    "   def forward(self, input_ids, attention_mask):\n",
    "       with torch.no_grad():\n",
    "        out = self.model(input_ids=input_ids,\n",
    "                         attention_mask=attention_mask)\n",
    "       out = out[0][:, 0, :]\n",
    "      #  print(out)\n",
    "       out = F.relu(self.ln1(out))\n",
    "       out = F.relu(self.ln2(out))\n",
    "       out = F.relu(self.ln3(out))\n",
    "       return F.sigmoid(self.ln4(out))"
   ]
  },
  {
   "cell_type": "code",
   "execution_count": 236,
   "metadata": {
    "id": "lnz9bO9sUqzB"
   },
   "outputs": [],
   "source": [
    "# class GPT2_acceptability(nn.Module):\n",
    "#    def __init__(self):\n",
    "#        super(GPT2_acceptability, self).__init__()\n",
    "#        self.model = GPT2LMHeadModel.from_pretrained('gpt2')\n",
    "#        self.ln1 = nn.Linear(1, 20)\n",
    "#        self.ln2 = nn.Linear(20, 50)\n",
    "#        self.ln3 = nn.Linear(50, 20)\n",
    "#        self.ln4 = nn.Linear(20, 1)\n",
    "\n",
    "#    def forward(self, input_ids, attention_mask):\n",
    "#        with torch.no_grad():\n",
    "#         #  out=self.model(input_ids=input_ids, attention_mask=attention_mask)\n",
    "#         out=self.model(input_ids=input_ids, \n",
    "#                        labels=input_ids,\n",
    "#                        attention_mask=attention_mask)\n",
    "#       #  print(out.logits.shape)\n",
    "#        logits = out.logits \n",
    "#        print(logits.shape)\n",
    "#        loss = torch.softmax(logits, dim=-1).prod(2)\n",
    "       \n",
    "#        out = torch.exp(loss.unsqueeze(0))\n",
    "#        print(out)\n",
    "#       #  out = torch.sum(out.hidden_states \n",
    "#       #                  * torch.log2(F.softmax(out.logits)), axis=1)\n",
    "#        print(out.shape)\n",
    "#        out = F.relu(self.ln1(out))\n",
    "#        out = F.relu(self.ln2(out))\n",
    "#        out = F.relu(self.ln3(out))\n",
    "#        print(out.shape)\n",
    "#        return F.sigmoid(self.ln4(out))"
   ]
  },
  {
   "cell_type": "code",
   "execution_count": 237,
   "metadata": {
    "id": "JsD0psZR-dgZ"
   },
   "outputs": [
    {
     "name": "stdout",
     "output_type": "stream",
     "text": [
      "huggingface/tokenizers: The current process just got forked, after parallelism has already been used. Disabling parallelism to avoid deadlocks...\n",
      "To disable this warning, you can either:\n",
      "\t- Avoid using `tokenizers` before the fork if possible\n",
      "\t- Explicitly set the environment variable TOKENIZERS_PARALLELISM=(true | false)\n"
     ]
    }
   ],
   "source": [
    "!cd data"
   ]
  },
  {
   "cell_type": "code",
   "execution_count": 238,
   "metadata": {
    "colab": {
     "base_uri": "https://localhost:8080/"
    },
    "id": "M0lhFGUS_EeW",
    "outputId": "f2a12254-2791-4492-ff3e-e2a89bb69f6c"
   },
   "outputs": [
    {
     "name": "stdout",
     "output_type": "stream",
     "text": [
      "huggingface/tokenizers: The current process just got forked, after parallelism has already been used. Disabling parallelism to avoid deadlocks...\n",
      "To disable this warning, you can either:\n",
      "\t- Avoid using `tokenizers` before the fork if possible\n",
      "\t- Explicitly set the environment variable TOKENIZERS_PARALLELISM=(true | false)\n",
      "data/cola_public/raw/in_domain_train.tsv\n"
     ]
    }
   ],
   "source": [
    "!ls data/cola_public/raw/in_domain_train.tsv"
   ]
  },
  {
   "cell_type": "code",
   "execution_count": 239,
   "metadata": {
    "colab": {
     "base_uri": "https://localhost:8080/",
     "height": 424
    },
    "id": "EAB2mBwfMLHZ",
    "outputId": "392d988f-175f-4e31-eae3-eb93145f49be"
   },
   "outputs": [
    {
     "data": {
      "text/html": [
       "<div>\n",
       "<style scoped>\n",
       "    .dataframe tbody tr th:only-of-type {\n",
       "        vertical-align: middle;\n",
       "    }\n",
       "\n",
       "    .dataframe tbody tr th {\n",
       "        vertical-align: top;\n",
       "    }\n",
       "\n",
       "    .dataframe thead th {\n",
       "        text-align: right;\n",
       "    }\n",
       "</style>\n",
       "<table border=\"1\" class=\"dataframe\">\n",
       "  <thead>\n",
       "    <tr style=\"text-align: right;\">\n",
       "      <th></th>\n",
       "      <th>Grammaticality</th>\n",
       "      <th>Empty</th>\n",
       "      <th>Sentence</th>\n",
       "    </tr>\n",
       "  </thead>\n",
       "  <tbody>\n",
       "    <tr>\n",
       "      <th>gj04</th>\n",
       "      <td>1</td>\n",
       "      <td>NaN</td>\n",
       "      <td>Our friends won't buy this analysis, let alone...</td>\n",
       "    </tr>\n",
       "    <tr>\n",
       "      <th>gj04</th>\n",
       "      <td>1</td>\n",
       "      <td>NaN</td>\n",
       "      <td>One more pseudo generalization and I'm giving up.</td>\n",
       "    </tr>\n",
       "    <tr>\n",
       "      <th>gj04</th>\n",
       "      <td>1</td>\n",
       "      <td>NaN</td>\n",
       "      <td>One more pseudo generalization or I'm giving up.</td>\n",
       "    </tr>\n",
       "    <tr>\n",
       "      <th>gj04</th>\n",
       "      <td>1</td>\n",
       "      <td>NaN</td>\n",
       "      <td>The more we study verbs, the crazier they get.</td>\n",
       "    </tr>\n",
       "    <tr>\n",
       "      <th>gj04</th>\n",
       "      <td>1</td>\n",
       "      <td>NaN</td>\n",
       "      <td>Day by day the facts are getting murkier.</td>\n",
       "    </tr>\n",
       "    <tr>\n",
       "      <th>...</th>\n",
       "      <td>...</td>\n",
       "      <td>...</td>\n",
       "      <td>...</td>\n",
       "    </tr>\n",
       "    <tr>\n",
       "      <th>ad03</th>\n",
       "      <td>0</td>\n",
       "      <td>*</td>\n",
       "      <td>Poseidon appears to own a dragon</td>\n",
       "    </tr>\n",
       "    <tr>\n",
       "      <th>ad03</th>\n",
       "      <td>0</td>\n",
       "      <td>*</td>\n",
       "      <td>Digitize is my happiest memory</td>\n",
       "    </tr>\n",
       "    <tr>\n",
       "      <th>ad03</th>\n",
       "      <td>1</td>\n",
       "      <td>NaN</td>\n",
       "      <td>It is easy to slay the Gorgon.</td>\n",
       "    </tr>\n",
       "    <tr>\n",
       "      <th>ad03</th>\n",
       "      <td>1</td>\n",
       "      <td>NaN</td>\n",
       "      <td>I had the strangest feeling that I knew you.</td>\n",
       "    </tr>\n",
       "    <tr>\n",
       "      <th>ad03</th>\n",
       "      <td>1</td>\n",
       "      <td>NaN</td>\n",
       "      <td>What all did you get for Christmas?</td>\n",
       "    </tr>\n",
       "  </tbody>\n",
       "</table>\n",
       "<p>8551 rows × 3 columns</p>\n",
       "</div>"
      ],
      "text/plain": [
       "      Grammaticality Empty                                           Sentence\n",
       "gj04               1   NaN  Our friends won't buy this analysis, let alone...\n",
       "gj04               1   NaN  One more pseudo generalization and I'm giving up.\n",
       "gj04               1   NaN   One more pseudo generalization or I'm giving up.\n",
       "gj04               1   NaN     The more we study verbs, the crazier they get.\n",
       "gj04               1   NaN          Day by day the facts are getting murkier.\n",
       "...              ...   ...                                                ...\n",
       "ad03               0     *                   Poseidon appears to own a dragon\n",
       "ad03               0     *                     Digitize is my happiest memory\n",
       "ad03               1   NaN                     It is easy to slay the Gorgon.\n",
       "ad03               1   NaN       I had the strangest feeling that I knew you.\n",
       "ad03               1   NaN                What all did you get for Christmas?\n",
       "\n",
       "[8551 rows x 3 columns]"
      ]
     },
     "execution_count": 239,
     "metadata": {},
     "output_type": "execute_result"
    }
   ],
   "source": [
    "df = pd.read_csv('data/cola_public/raw/in_domain_train.tsv', sep='\\t', names=['Grammaticality', 'Empty', 'Sentence'])\n",
    "df\n",
    "# df = pd.read_csv('in_domain_train.tsv', sep='\\t')"
   ]
  },
  {
   "cell_type": "code",
   "execution_count": 240,
   "metadata": {
    "id": "bSyu6oWPKvCQ"
   },
   "outputs": [],
   "source": [
    "def encode(data, tokenizer):\n",
    "    input_ids = []    \n",
    "    attention_mask = []    \n",
    "    for text in data:        \n",
    "      tokenized_text = tokenizer.encode_plus(text,\n",
    "                                            max_length=100,\n",
    "                                            # add_special_tokens =True,\n",
    "                                            pad_to_max_length=True,\n",
    "                                            return_attention_mask=True)        \n",
    "      input_ids.append(tokenized_text['input_ids'])        \n",
    "      attention_mask.append(tokenized_text['attention_mask'])\n",
    "    # print(tokenized_text)\n",
    "    \n",
    "    return torch.tensor(input_ids, dtype=torch.long), torch.tensor(attention_mask, dtype=torch.long)"
   ]
  },
  {
   "cell_type": "code",
   "execution_count": 241,
   "metadata": {
    "id": "IeDmgQzsxmP1"
   },
   "outputs": [],
   "source": [
    "texts = df.iloc[:,2].to_list()[0:6000]"
   ]
  },
  {
   "cell_type": "code",
   "execution_count": 242,
   "metadata": {
    "colab": {
     "base_uri": "https://localhost:8080/"
    },
    "id": "jHHVyUASKyeh",
    "outputId": "bf535ebb-3b15-407b-e2d3-7bf5f643c95c"
   },
   "outputs": [],
   "source": [
    "ids, attention = encode(texts, tokenizer)"
   ]
  },
  {
   "cell_type": "code",
   "execution_count": 243,
   "metadata": {
    "colab": {
     "base_uri": "https://localhost:8080/"
    },
    "id": "sawcsEAzQVg4",
    "outputId": "46cbc217-0b3a-4735-ae34-89c40b2929f5"
   },
   "outputs": [
    {
     "data": {
      "text/plain": [
       "6000"
      ]
     },
     "execution_count": 243,
     "metadata": {},
     "output_type": "execute_result"
    }
   ],
   "source": [
    "len(texts)"
   ]
  },
  {
   "cell_type": "code",
   "execution_count": 244,
   "metadata": {
    "colab": {
     "base_uri": "https://localhost:8080/"
    },
    "id": "kVWVooDHQbEN",
    "outputId": "2eab96be-2958-4d72-a563-1de4ed4f0fdc"
   },
   "outputs": [
    {
     "data": {
      "text/plain": [
       "torch.Size([6000, 100])"
      ]
     },
     "execution_count": 244,
     "metadata": {},
     "output_type": "execute_result"
    }
   ],
   "source": [
    "ids.shape"
   ]
  },
  {
   "cell_type": "code",
   "execution_count": 245,
   "metadata": {
    "colab": {
     "base_uri": "https://localhost:8080/"
    },
    "id": "4JA5Z9aAQKsO",
    "outputId": "44a24a9c-8781-4039-a04c-e0f24f325095"
   },
   "outputs": [
    {
     "data": {
      "text/plain": [
       "torch.Size([6000, 100])"
      ]
     },
     "execution_count": 245,
     "metadata": {},
     "output_type": "execute_result"
    }
   ],
   "source": [
    "attention.shape"
   ]
  },
  {
   "cell_type": "code",
   "execution_count": 246,
   "metadata": {
    "id": "mHjbERv6LvhZ"
   },
   "outputs": [],
   "source": [
    "labels = torch.from_numpy(df.iloc[:,0].to_numpy()[0:6000])\n",
    "dataset = TensorDataset(ids, attention, labels) # create your datset\n",
    "dataloader_train = DataLoader(dataset, batch_size=200, shuffle=True)"
   ]
  },
  {
   "cell_type": "code",
   "execution_count": 247,
   "metadata": {
    "id": "AkfUnBgdQ5oh"
   },
   "outputs": [],
   "source": [
    "learning_rate = 1e-3\n",
    "num_epochs = 20\n",
    "\n",
    "model = GPT2_acceptability().to(device)\n",
    "optimizer = torch.optim.Adam(model.parameters(), lr=learning_rate)\n",
    "# scheduler = StepLR(optimizer, step_size=30, gamma=0.1)\n",
    "loss_fn = nn.BCELoss()"
   ]
  },
  {
   "cell_type": "code",
   "execution_count": 248,
   "metadata": {
    "colab": {
     "base_uri": "https://localhost:8080/"
    },
    "id": "aIFnPW3Z4Kjh",
    "outputId": "97bdcb33-86b8-49a2-963f-21feb55e26be"
   },
   "outputs": [
    {
     "data": {
      "text/plain": [
       "tensor([ 3198,   517, 24543,  2276,  1634,   290,   314,  1101,  3501,   510,\n",
       "           13, 50256, 50256, 50256, 50256, 50256, 50256, 50256, 50256, 50256,\n",
       "        50256, 50256, 50256, 50256, 50256, 50256, 50256, 50256, 50256, 50256,\n",
       "        50256, 50256, 50256, 50256, 50256, 50256, 50256, 50256, 50256, 50256,\n",
       "        50256, 50256, 50256, 50256, 50256, 50256, 50256, 50256, 50256, 50256,\n",
       "        50256, 50256, 50256, 50256, 50256, 50256, 50256, 50256, 50256, 50256,\n",
       "        50256, 50256, 50256, 50256, 50256, 50256, 50256, 50256, 50256, 50256,\n",
       "        50256, 50256, 50256, 50256, 50256, 50256, 50256, 50256, 50256, 50256,\n",
       "        50256, 50256, 50256, 50256, 50256, 50256, 50256, 50256, 50256, 50256,\n",
       "        50256, 50256, 50256, 50256, 50256, 50256, 50256, 50256, 50256, 50256])"
      ]
     },
     "execution_count": 248,
     "metadata": {},
     "output_type": "execute_result"
    }
   ],
   "source": [
    "ids[1]"
   ]
  },
  {
   "cell_type": "code",
   "execution_count": 249,
   "metadata": {
    "colab": {
     "base_uri": "https://localhost:8080/",
     "height": 378
    },
    "id": "R6ujPj_1sd00",
    "outputId": "2fba94c7-3f37-441b-d777-562a12c26861"
   },
   "outputs": [
    {
     "data": {
      "text/plain": [
       "tensor([[0.4959],\n",
       "        [0.4959],\n",
       "        [0.4952],\n",
       "        [0.4988],\n",
       "        [0.5055],\n",
       "        [0.4934],\n",
       "        [0.4943],\n",
       "        [0.5009],\n",
       "        [0.5054],\n",
       "        [0.4952],\n",
       "        [0.4952],\n",
       "        [0.4943],\n",
       "        [0.4952],\n",
       "        [0.4952],\n",
       "        [0.4943],\n",
       "        [0.4943],\n",
       "        [0.4968],\n",
       "        [0.4968],\n",
       "        [0.4952],\n",
       "        [0.4952],\n",
       "        [0.5009],\n",
       "        [0.5009],\n",
       "        [0.5009],\n",
       "        [0.4933],\n",
       "        [0.4933],\n",
       "        [0.4933],\n",
       "        [0.4943],\n",
       "        [0.5009],\n",
       "        [0.4934],\n",
       "        [0.4938],\n",
       "        [0.4943],\n",
       "        [0.4943],\n",
       "        [0.4943],\n",
       "        [0.4952],\n",
       "        [0.4943],\n",
       "        [0.4943],\n",
       "        [0.4927],\n",
       "        [0.4968],\n",
       "        [0.4968],\n",
       "        [0.4968],\n",
       "        [0.4968],\n",
       "        [0.4968],\n",
       "        [0.4968],\n",
       "        [0.4952],\n",
       "        [0.4952],\n",
       "        [0.4952],\n",
       "        [0.4952],\n",
       "        [0.4952],\n",
       "        [0.4952],\n",
       "        [0.4952],\n",
       "        [0.4943],\n",
       "        [0.4952],\n",
       "        [0.4943],\n",
       "        [0.4952],\n",
       "        [0.4952],\n",
       "        [0.4952],\n",
       "        [0.4952],\n",
       "        [0.4927],\n",
       "        [0.4927],\n",
       "        [0.4927],\n",
       "        [0.4927],\n",
       "        [0.4927],\n",
       "        [0.4927],\n",
       "        [0.4943],\n",
       "        [0.4943],\n",
       "        [0.4943],\n",
       "        [0.4943],\n",
       "        [0.4943],\n",
       "        [0.4943],\n",
       "        [0.4943],\n",
       "        [0.4952],\n",
       "        [0.4952],\n",
       "        [0.4952],\n",
       "        [0.4952],\n",
       "        [0.4949],\n",
       "        [0.4949],\n",
       "        [0.4943],\n",
       "        [0.4943],\n",
       "        [0.4943],\n",
       "        [0.4943],\n",
       "        [0.4943],\n",
       "        [0.4943],\n",
       "        [0.4952],\n",
       "        [0.4924],\n",
       "        [0.5031],\n",
       "        [0.4919],\n",
       "        [0.4952],\n",
       "        [0.5031],\n",
       "        [0.4938],\n",
       "        [0.4938],\n",
       "        [0.4915],\n",
       "        [0.5031],\n",
       "        [0.4952],\n",
       "        [0.4952],\n",
       "        [0.4952],\n",
       "        [0.4943],\n",
       "        [0.5016],\n",
       "        [0.4952],\n",
       "        [0.4952]], device='cuda:0', grad_fn=<SigmoidBackward0>)"
      ]
     },
     "execution_count": 249,
     "metadata": {},
     "output_type": "execute_result"
    }
   ],
   "source": [
    "model(ids[1:100].to(device), attention[1:100].to(device))"
   ]
  },
  {
   "cell_type": "code",
   "execution_count": 250,
   "metadata": {
    "colab": {
     "base_uri": "https://localhost:8080/",
     "height": 452
    },
    "id": "HgZddWqwPz4F",
    "outputId": "2d8a4de2-3fb3-476e-f44b-5dcdb48dde8e"
   },
   "outputs": [
    {
     "name": "stdout",
     "output_type": "stream",
     "text": [
      "0.6357235431671142\n",
      "Accuracy = 0.68\n",
      "0.6201017359892528\n",
      "Accuracy = 0.6903333333333334\n",
      "0.6196066836516062\n",
      "Accuracy = 0.6903333333333334\n",
      "0.6194096008936564\n",
      "Accuracy = 0.6903333333333334\n",
      "0.6196467200915019\n",
      "Accuracy = 0.6903333333333334\n",
      "0.6190704007943472\n",
      "Accuracy = 0.6903333333333334\n",
      "0.619253675142924\n",
      "Accuracy = 0.6903333333333334\n",
      "0.6187887748082479\n",
      "Accuracy = 0.6903333333333334\n",
      "0.618436727921168\n",
      "Accuracy = 0.6903333333333334\n",
      "0.6183704018592835\n",
      "Accuracy = 0.6903333333333334\n",
      "0.6182117819786072\n",
      "Accuracy = 0.6903333333333334\n",
      "0.617965829372406\n",
      "Accuracy = 0.6903333333333334\n",
      "0.6180114308993022\n",
      "Accuracy = 0.6903333333333334\n",
      "0.6181561827659607\n",
      "Accuracy = 0.6903333333333334\n",
      "0.6178217172622681\n",
      "Accuracy = 0.6903333333333334\n",
      "0.6175705075263977\n",
      "Accuracy = 0.6903333333333334\n",
      "0.617513773838679\n",
      "Accuracy = 0.6903333333333334\n",
      "0.6178864558537801\n",
      "Accuracy = 0.6903333333333334\n",
      "0.617133084932963\n",
      "Accuracy = 0.6903333333333334\n",
      "0.6172210852305094\n",
      "Accuracy = 0.6903333333333334\n"
     ]
    }
   ],
   "source": [
    "glob_loss = []\n",
    "\n",
    "for epoch in range(num_epochs):\n",
    "  correct = 0\n",
    "  losses = []\n",
    "  for ids, attention, y in dataloader_train:\n",
    "    out = model(ids.to(device), attention.to(device))\n",
    "    correct += torch.sum(torch.round(out).squeeze() == y.squeeze().to(device)).item()\n",
    "    loss = loss_fn(out.squeeze(), y.to(torch.float32).squeeze().to(device))\n",
    "    optimizer.zero_grad()\n",
    "    loss.backward()\n",
    "    losses.append(np.mean(loss.item()))\n",
    "    optimizer.step()\n",
    "    # scheduler.step()\n",
    "  print(np.mean(losses))\n",
    "  glob_loss.append(np.mean(losses))\n",
    "  accuracy = correct / len(dataset)\n",
    "  print(\"Accuracy = {}\".format(accuracy))"
   ]
  },
  {
   "cell_type": "code",
   "execution_count": 251,
   "metadata": {
    "id": "j6ii9i-WwwqL"
   },
   "outputs": [
    {
     "data": {
      "text/plain": [
       "[<matplotlib.lines.Line2D at 0x7f46634ca1f0>]"
      ]
     },
     "execution_count": 251,
     "metadata": {},
     "output_type": "execute_result"
    },
    {
     "data": {
      "image/png": "[encoded data removed]",
      "text/plain": [
       "<Figure size 432x288 with 1 Axes>"
      ]
     },
     "metadata": {
      "needs_background": "light"
     },
     "output_type": "display_data"
    }
   ],
   "source": [
    "plt.plot(glob_loss)"
   ]
  },
  {
   "cell_type": "code",
   "execution_count": 256,
   "metadata": {
    "id": "AGwGk8XS1AH1"
   },
   "outputs": [],
   "source": [
    "texts_test = df.iloc[:,2].to_list()[6000:8000]\n",
    "ids, attention = encode(texts_test, tokenizer)\n",
    "labels = torch.from_numpy(df.iloc[:,0].to_numpy()[6000:8000])\n",
    "dataset = TensorDataset(ids, attention, labels) # create your datset\n",
    "dataloader_train = DataLoader(dataset, batch_size=200, shuffle=True)"
   ]
  },
  {
   "cell_type": "code",
   "execution_count": null,
   "metadata": {},
   "outputs": [],
   "source": [
    "losses = []\n",
    "correct = 0\n",
    "for ids, attention, y in dataloader_train:\n",
    "    out = model(ids.to(device), attention.to(device))\n",
    "    correct += torch.sum(torch.round(out).squeeze() == y.squeeze().to(device))\n",
    "    # print(out.shape)x\n",
    "    loss = loss_fn(out.squeeze(), y.to(torch.float32).squeeze().to(device))\n",
    "    losses.append(np.mean(loss.item()))\n",
    "print(np.mean(losses))\n",
    "print((correct / len(dataset)).item())"
   ]
  }
 ],
 "metadata": {
  "accelerator": "GPU",
  "colab": {
   "collapsed_sections": [],
   "name": "recyling_transformers.ipynb",
   "provenance": []
  },
  "kernelspec": {
   "display_name": "Python 3 (ipykernel)",
   "language": "python",
   "name": "python3"
  },
  "language_info": {
   "codemirror_mode": {
    "name": "ipython",
    "version": 3
   },
   "file_extension": ".py",
   "mimetype": "text/x-python",
   "name": "python",
   "nbconvert_exporter": "python",
   "pygments_lexer": "ipython3",
   "version": "3.8.12"
  }
 },
 "nbformat": 4,
 "nbformat_minor": 4
}
